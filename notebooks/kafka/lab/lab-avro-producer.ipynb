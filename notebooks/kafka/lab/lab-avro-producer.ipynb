{
 "cells": [
  {
   "cell_type": "markdown",
   "metadata": {},
   "source": [
    "<div style=\"text-align: center; line-height: 0; padding-top: 2px;\">\n",
    "  <img src=\"https://www.quantiaconsulting.com/logos/quantia_logo_orizz.png\" alt=\"Quantia Consulting\" style=\"width: 600px; height: 250px\">\n",
    "</div>"
   ]
  },
  {
   "cell_type": "markdown",
   "metadata": {},
   "source": [
    "## Getting Started\n",
    "\n",
    "Let's start importing libraries and creating useful variables "
   ]
  },
  {
   "cell_type": "code",
   "execution_count": null,
   "metadata": {},
   "outputs": [],
   "source": [
    "%load_ext autotime"
   ]
  },
  {
   "cell_type": "code",
   "execution_count": 1,
   "metadata": {},
   "outputs": [],
   "source": [
    "from confluent_kafka import avro\n",
    "from confluent_kafka.avro import AvroProducer\n",
    "from confluent_kafka.admin import AdminClient, NewTopic\n",
    "\n",
    "\n"
   ]
  },
  {
   "cell_type": "code",
   "execution_count": 2,
   "metadata": {},
   "outputs": [],
   "source": [
    "\n",
    "#import qcutils\n",
    "\n",
    "servers=\"broker:29092\"\n",
    "\n",
    "sr_url=\"http://schema-registry:8081\"\n",
    "\n",
    "topic = 'lab-avro-producer5'\n",
    "\n",
    "admin_client = AdminClient({\n",
    "    \"bootstrap.servers\": servers\n",
    "})\n",
    "\n",
    "\n"
   ]
  },
  {
   "cell_type": "code",
   "execution_count": null,
   "metadata": {},
   "outputs": [],
   "source": [
    "topic_list = []\n",
    "topic_list.append(NewTopic(topic, 1, 1))\n",
    "admin_client.create_topics(topic_list)"
   ]
  },
  {
   "cell_type": "code",
   "execution_count": 3,
   "metadata": {},
   "outputs": [],
   "source": [
    "producerconf = {\n",
    "        'bootstrap.servers': servers,\n",
    "        'schema.registry.url': sr_url\n",
    "    }"
   ]
  },
  {
   "cell_type": "markdown",
   "metadata": {},
   "source": [
    "# write a kafka avro producer"
   ]
  },
  {
   "cell_type": "markdown",
   "metadata": {},
   "source": [
    "Define avro schemas for keys and value to describe cars\n",
    "\n",
    "### Key\n",
    "The key has a single field to contain `Plate`\n",
    "\n",
    "### Value\n",
    "A car is described by `Manifacturer`, `Model`, `Year`"
   ]
  },
  {
   "cell_type": "markdown",
   "metadata": {},
   "source": [
    "1) define the key schema"
   ]
  },
  {
   "cell_type": "code",
   "execution_count": 4,
   "metadata": {},
   "outputs": [],
   "source": [
    "key_schema_str = \"\"\"\n",
    "{\n",
    "  \"namespace\": \"lab.avro\",\n",
    "  \"type\": \"record\",\n",
    "  \"name\": \"CarKey\",\n",
    "  \"fields\": [\n",
    "    {\n",
    "      \"name\": \"plate\",\n",
    "      \"type\": \"string\"\n",
    "    }\n",
    "  ]\n",
    "}\n",
    "\"\"\"\n",
    "key_schema = avro.loads(key_schema_str)"
   ]
  },
  {
   "cell_type": "markdown",
   "metadata": {},
   "source": [
    "2) define the value schema"
   ]
  },
  {
   "cell_type": "code",
   "execution_count": 5,
   "metadata": {},
   "outputs": [],
   "source": [
    "value_schema_str = \"\"\"\n",
    "{\n",
    "  \"namespace\": \"lab.avro\",\n",
    "  \"type\": \"record\",\n",
    "  \"name\": \"CarValue\",\n",
    "  \"fields\": [\n",
    "    {\n",
    "      \"name\": \"manifacturer\",\n",
    "      \"type\": \"string\"\n",
    "    },\n",
    "    {\n",
    "      \"name\": \"model\",\n",
    "      \"type\": \"string\"\n",
    "    },\n",
    "    {\n",
    "      \"name\": \"year\",\n",
    "      \"type\": \"int\"\n",
    "    }\n",
    "  ]\n",
    "}\n",
    "\"\"\"\n",
    "value_schema = avro.loads(value_schema_str)"
   ]
  },
  {
   "cell_type": "markdown",
   "metadata": {},
   "source": [
    "3) create a topic `<surname>-avro-cars`, send in messages and read it put with a consumer (can you re-use the previous one?)"
   ]
  },
  {
   "cell_type": "code",
   "execution_count": 6,
   "metadata": {},
   "outputs": [],
   "source": [
    "ap = AvroProducer(producerconf, default_key_schema=key_schema, default_value_schema=value_schema)"
   ]
  },
  {
   "cell_type": "code",
   "execution_count": 7,
   "metadata": {},
   "outputs": [
    {
     "name": "stdout",
     "output_type": "stream",
     "text": [
      "{'manifacturer': 'audi', 'model': 'A1', 'year': 2018}\n",
      "{'manifacturer': 'skoda', 'model': 'karoq', 'year': 2018}\n"
     ]
    },
    {
     "data": {
      "text/plain": [
       "0"
      ]
     },
     "execution_count": 7,
     "metadata": {},
     "output_type": "execute_result"
    }
   ],
   "source": [
    "key = {\"plate\": \"ab123cd\"}\n",
    "value = {\"manifacturer\": \"audi\", \"model\": \"A1\", \"year\":2018}\n",
    "ap.produce(topic=topic, value=value, key=key, key_schema=key_schema, value_schema=value_schema)\n",
    "\n",
    "print(value)\n",
    "\n",
    "key = {\"plate\": \"ab321cd\"}\n",
    "value = {\"manifacturer\": \"skoda\", \"model\": \"karoq\", \"year\":2018}\n",
    "ap.produce(topic=topic, value=value, key=key, key_schema=key_schema, value_schema=value_schema)\n",
    "\n",
    "print(value)\n",
    "\n",
    "ap.flush(1)"
   ]
  },
  {
   "cell_type": "markdown",
   "metadata": {},
   "source": [
    "## Consume the data\n",
    "\n",
    "In another notebook, Write a AVRO Consumer that consume the car messages and access directly to the production year..."
   ]
  },
  {
   "cell_type": "markdown",
   "metadata": {},
   "source": [
    "## Schema Evolution and Value restriction\n",
    "\n",
    "The different manifacturers added the `Color` to the car description and restricted the number of available colors to 3 (Black, White and Red).\n",
    "\n",
    "**HINT**: check [AVRO modelling language](https://avro.apache.org/docs/current/idl.html)\n",
    "\n",
    "Change the schema and write the original topic."
   ]
  },
  {
   "cell_type": "code",
   "execution_count": 8,
   "metadata": {},
   "outputs": [
    {
     "name": "stdout",
     "output_type": "stream",
     "text": [
      "{'manifacturer': 'fiat', 'model': 'panda', 'year': 2020, 'color': 'black'}\n"
     ]
    }
   ],
   "source": [
    "value_schema_str = \"\"\"\n",
    "{\n",
    "  \"namespace\": \"lab.avro\",\n",
    "  \"type\": \"record\",\n",
    "  \"name\": \"CarValue\",\n",
    "  \"fields\": [\n",
    "    {\n",
    "      \"name\": \"manifacturer\",\n",
    "      \"type\": \"string\"\n",
    "    },\n",
    "    {\n",
    "      \"name\": \"model\",\n",
    "      \"type\": \"string\"\n",
    "    },\n",
    "    {\n",
    "      \"name\": \"year\",\n",
    "      \"type\": \"int\"\n",
    "    },\n",
    "    {\n",
    "      \"name\": \"color\",\n",
    "      \"type\": {\n",
    "        \"type\": \"enum\",\n",
    "        \"name\": \"possibleColors\",\n",
    "        \"symbols\": [\"no_color\",\"black\", \"white\", \"red\"]\n",
    "      },\n",
    "      \"default\": \"no_color\",\n",
    "      \"doc\": \"The color of the car\"\n",
    "    }\n",
    "  ]\n",
    "}\n",
    "\"\"\"\n",
    "\n",
    "value_schema = avro.loads(value_schema_str)\n",
    "key_schema = avro.loads(key_schema_str)\n",
    "\n",
    "producerconf = {\n",
    "        'bootstrap.servers': servers,\n",
    "        'schema.registry.url': sr_url\n",
    "    }\n",
    "        \n",
    "newap = AvroProducer(producerconf, default_key_schema=key_schema, default_value_schema=value_schema)\n",
    "\n",
    "key = {\"plate\": \"ab567cd\"}\n",
    "value = {\"manifacturer\": \"fiat\", \"model\": \"panda\", \"year\":2020, \"color\":\"black\"}\n",
    "newap.produce(topic=topic, value=value, key=key, key_schema=key_schema, value_schema=value_schema)\n",
    "print(value)\n"
   ]
  },
  {
   "cell_type": "code",
   "execution_count": 9,
   "metadata": {},
   "outputs": [
    {
     "name": "stdout",
     "output_type": "stream",
     "text": [
      "{'manifacturer': 'fiat', 'model': 'panda', 'year': 2020}\n"
     ]
    }
   ],
   "source": [
    "key = {\"plate\": \"ab568cd\"}\n",
    "value = {\"manifacturer\": \"fiat\", \"model\": \"panda\", \"year\":2020}\n",
    "newap.produce(topic=topic, value=value, key=key, key_schema=key_schema, value_schema=value_schema)\n",
    "print(value)"
   ]
  },
  {
   "cell_type": "markdown",
   "metadata": {},
   "source": [
    "##### ![Quantia Tiny Logo](https://www.quantiaconsulting.com/logos/quantia_logo_tiny.png) 2020 Quantia Consulting, srl. All rights reserved."
   ]
  }
 ],
 "metadata": {
  "kernelspec": {
   "display_name": "Python 3",
   "language": "python",
   "name": "python3"
  },
  "language_info": {
   "codemirror_mode": {
    "name": "ipython",
    "version": 3
   },
   "file_extension": ".py",
   "mimetype": "text/x-python",
   "name": "python",
   "nbconvert_exporter": "python",
   "pygments_lexer": "ipython3",
   "version": "3.8.8"
  },
  "name": "Lab 3 - avro producer",
  "notebookId": 1507370365633688
 },
 "nbformat": 4,
 "nbformat_minor": 4
}
