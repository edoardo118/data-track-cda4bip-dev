{
 "cells": [
  {
   "cell_type": "markdown",
   "metadata": {},
   "source": [
    "<div style=\"text-align: center; line-height: 0; padding-top: 2px;\">\n",
    "  <img src=\"https://www.quantiaconsulting.com/logos/quantia_logo_orizz.png\" alt=\"Quantia Consulting\" style=\"width: 600px; height: 250px\">\n",
    "</div>"
   ]
  },
  {
   "cell_type": "markdown",
   "metadata": {},
   "source": [
    "## Getting Started\n",
    "\n",
    "Let's start importing libraries and creating useful variables "
   ]
  },
  {
   "cell_type": "code",
   "execution_count": null,
   "metadata": {},
   "outputs": [],
   "source": [
    "%load_ext autotime"
   ]
  },
  {
   "cell_type": "code",
   "execution_count": 1,
   "metadata": {},
   "outputs": [],
   "source": [
    "from confluent_kafka import avro\n",
    "from confluent_kafka.avro import AvroProducer\n",
    "import time\n",
    "from confluent_kafka.admin import AdminClient, NewTopic\n",
    "\n",
    "\n",
    "import time\n",
    "#import qcutils\n",
    "\n",
    "servers=\"broker:29092\"\n",
    "\n",
    "sr_url=\"http://schema-registry:8081\"\n",
    "\n",
    "topic = 'lab-avro-producer'\n",
    "\n",
    "admin_client = AdminClient({\n",
    "    \"bootstrap.servers\": servers\n",
    "})\n",
    "\n",
    "\n"
   ]
  },
  {
   "cell_type": "code",
   "execution_count": 2,
   "metadata": {},
   "outputs": [
    {
     "data": {
      "text/plain": [
       "{'lab-avro-producer': <Future at 0x7fbdd8814790 state=running>}"
      ]
     },
     "execution_count": 2,
     "metadata": {},
     "output_type": "execute_result"
    }
   ],
   "source": [
    "topic_list = []\n",
    "topic_list.append(NewTopic(topic, 1, 1))\n",
    "admin_client.create_topics(topic_list)"
   ]
  },
  {
   "cell_type": "code",
   "execution_count": 3,
   "metadata": {},
   "outputs": [],
   "source": [
    "producerconf = {\n",
    "        'bootstrap.servers': servers,\n",
    "        'schema.registry.url': sr_url\n",
    "    }"
   ]
  },
  {
   "cell_type": "markdown",
   "metadata": {},
   "source": [
    "# write a kafka avro producer"
   ]
  },
  {
   "cell_type": "markdown",
   "metadata": {},
   "source": [
    "Define avro schemas for keys and value to describe cars\n",
    "\n",
    "### Key\n",
    "The key has a single field to contain `Plate`\n",
    "\n",
    "### Value\n",
    "A car is described by `Manifacturer`, `Model`, `Year`"
   ]
  },
  {
   "cell_type": "markdown",
   "metadata": {},
   "source": [
    "1) define the key schema"
   ]
  },
  {
   "cell_type": "code",
   "execution_count": 6,
   "metadata": {},
   "outputs": [],
   "source": [
    "key_schema_str = \"\"\"\n",
    "{\n",
    "  \"namespace\": \"lab.avro\",\n",
    "  \"type\": \"record\",\n",
    "  \"name\": \"CarKey\",\n",
    "  \"fields\": [\n",
    "    {\n",
    "      \"name\": \"plate\",\n",
    "      \"type\": \"string\"\n",
    "    }\n",
    "  ]\n",
    "}\n",
    "\"\"\"\n",
    "key_schema = avro.loads(key_schema_str)"
   ]
  },
  {
   "cell_type": "markdown",
   "metadata": {},
   "source": [
    "2) define the value schema"
   ]
  },
  {
   "cell_type": "code",
   "execution_count": 7,
   "metadata": {},
   "outputs": [],
   "source": [
    "value_schema_str = \"\"\"\n",
    "{\n",
    "  \"namespace\": \"lab.avro\",\n",
    "  \"type\": \"record\",\n",
    "  \"name\": \"CarValue\",\n",
    "  \"fields\": [\n",
    "    {\n",
    "      \"name\": \"manifacturer\",\n",
    "      \"type\": \"string\"\n",
    "    },\n",
    "    {\n",
    "      \"name\": \"model\",\n",
    "      \"type\": \"string\"\n",
    "    },\n",
    "    {\n",
    "      \"name\": \"year\",\n",
    "      \"type\": \"int\"\n",
    "    }\n",
    "  ]\n",
    "}\n",
    "\"\"\"\n",
    "value_schema = avro.loads(value_schema_str)"
   ]
  },
  {
   "cell_type": "markdown",
   "metadata": {},
   "source": [
    "3) create a topic `<surname>-avro-cars`, send in messages and read it put with a consumer (can you re-use the previous one?)"
   ]
  },
  {
   "cell_type": "code",
   "execution_count": 8,
   "metadata": {},
   "outputs": [],
   "source": [
    "ap = AvroProducer(producerconf, default_key_schema=key_schema, default_value_schema=value_schema)"
   ]
  },
  {
   "cell_type": "code",
   "execution_count": 9,
   "metadata": {},
   "outputs": [
    {
     "name": "stdout",
     "output_type": "stream",
     "text": [
      "{'manifacturer': 'audi', 'model': 'A1', 'year': 2018}\n",
      "{'manifacturer': 'skoda', 'model': 'karoq', 'year': 2018}\n"
     ]
    },
    {
     "data": {
      "text/plain": [
       "0"
      ]
     },
     "execution_count": 9,
     "metadata": {},
     "output_type": "execute_result"
    }
   ],
   "source": [
    "key = {\"plate\": \"ab123cd\"}\n",
    "value = {\"manifacturer\": \"audi\", \"model\": \"A1\", \"year\":2018}\n",
    "ap.produce(topic=topic, value=value, key=key, key_schema=key_schema, value_schema=value_schema)\n",
    "\n",
    "print(value)\n",
    "\n",
    "key = {\"plate\": \"ab321cd\"}\n",
    "value = {\"manifacturer\": \"skoda\", \"model\": \"karoq\", \"year\":2018}\n",
    "ap.produce(topic=topic, value=value, key=key, key_schema=key_schema, value_schema=value_schema)\n",
    "\n",
    "print(value)\n",
    "\n",
    "ap.flush(1)"
   ]
  },
  {
   "cell_type": "markdown",
   "metadata": {},
   "source": [
    "## Consume the data\n",
    "\n",
    "In another notebook, Write a AVRO Consumer that consume the car messages and access directly to the production year..."
   ]
  },
  {
   "cell_type": "markdown",
   "metadata": {},
   "source": [
    "## Schema Evolution and Value restriction\n",
    "\n",
    "The different manifacturers added the `Color` to the car description and restricted the number of available colors to 3 (Black, White and Red).\n",
    "\n",
    "**HINT**: check [AVRO modelling language](https://avro.apache.org/docs/current/idl.html)\n",
    "\n",
    "Change the schema and write the original topic."
   ]
  },
  {
   "cell_type": "code",
   "execution_count": 17,
   "metadata": {},
   "outputs": [
    {
     "name": "stdout",
     "output_type": "stream",
     "text": [
      "{'manifacturer': 'fiat', 'model': 'panda', 'year': 2020, 'color': 'black'}\n"
     ]
    }
   ],
   "source": [
    "value_schema_str = \"\"\"\n",
    "{\n",
    "  \"namespace\": \"lab.avro\",\n",
    "  \"type\": \"record\",\n",
    "  \"name\": \"CarValue\",\n",
    "  \"fields\": [\n",
    "    {\n",
    "      \"name\": \"manifacturer\",\n",
    "      \"type\": \"string\"\n",
    "    },\n",
    "    {\n",
    "      \"name\": \"model\",\n",
    "      \"type\": \"string\"\n",
    "    },\n",
    "    {\n",
    "      \"name\": \"year\",\n",
    "      \"type\": \"int\"\n",
    "    },\n",
    "    {\n",
    "      \"name\": \"color\",\n",
    "      \"type\": {\n",
    "        \"type\": \"enum\",\n",
    "        \"name\": \"possibleColors\",\n",
    "        \"symbols\": [\"no_color\",\"black\", \"white\", \"red\"]\n",
    "      },\n",
    "      \"default\": \"no_color\",\n",
    "      \"doc\": \"The color of the car\"\n",
    "    }\n",
    "  ]\n",
    "}\n",
    "\"\"\"\n",
    "\n",
    "value_schema = avro.loads(value_schema_str)\n",
    "key_schema = avro.loads(key_schema_str)\n",
    "\n",
    "producerconf = {\n",
    "        'bootstrap.servers': servers,\n",
    "        'schema.registry.url': sr_url\n",
    "    }\n",
    "        \n",
    "newap = AvroProducer(producerconf, default_key_schema=key_schema, default_value_schema=value_schema)\n",
    "\n",
    "key = {\"plate\": \"ab567cd\"}\n",
    "value = {\"manifacturer\": \"fiat\", \"model\": \"panda\", \"year\":2020, \"color\":\"black\"}\n",
    "newap.produce(topic=topic, value=value, key=key, key_schema=key_schema, value_schema=value_schema)\n",
    "print(value)\n"
   ]
  },
  {
   "cell_type": "code",
   "execution_count": 18,
   "metadata": {},
   "outputs": [
    {
     "ename": "AvroTypeException",
     "evalue": "The datum {'manifacturer': 'fiat', 'model': 'panda', 'year': 2020} is not an example of the schema {\n  \"type\": \"record\",\n  \"name\": \"CarValue\",\n  \"namespace\": \"lab.avro\",\n  \"fields\": [\n    {\n      \"type\": \"string\",\n      \"name\": \"manifacturer\"\n    },\n    {\n      \"type\": \"string\",\n      \"name\": \"model\"\n    },\n    {\n      \"type\": \"int\",\n      \"name\": \"year\"\n    },\n    {\n      \"type\": {\n        \"type\": \"enum\",\n        \"name\": \"possibleColors\",\n        \"namespace\": \"lab.avro\",\n        \"symbols\": [\n          \"no_color\",\n          \"black\",\n          \"white\",\n          \"red\"\n        ]\n      },\n      \"name\": \"color\",\n      \"default\": \"no_color\",\n      \"doc\": \"The color of the car\"\n    }\n  ]\n}",
     "output_type": "error",
     "traceback": [
      "\u001b[0;31m---------------------------------------------------------------------------\u001b[0m",
      "\u001b[0;31mAvroTypeException\u001b[0m                         Traceback (most recent call last)",
      "\u001b[0;32m<ipython-input-18-ff824f96baf8>\u001b[0m in \u001b[0;36m<module>\u001b[0;34m\u001b[0m\n\u001b[1;32m      1\u001b[0m \u001b[0mkey\u001b[0m \u001b[0;34m=\u001b[0m \u001b[0;34m{\u001b[0m\u001b[0;34m\"plate\"\u001b[0m\u001b[0;34m:\u001b[0m \u001b[0;34m\"ab568cd\"\u001b[0m\u001b[0;34m}\u001b[0m\u001b[0;34m\u001b[0m\u001b[0;34m\u001b[0m\u001b[0m\n\u001b[1;32m      2\u001b[0m \u001b[0mvalue\u001b[0m \u001b[0;34m=\u001b[0m \u001b[0;34m{\u001b[0m\u001b[0;34m\"manifacturer\"\u001b[0m\u001b[0;34m:\u001b[0m \u001b[0;34m\"fiat\"\u001b[0m\u001b[0;34m,\u001b[0m \u001b[0;34m\"model\"\u001b[0m\u001b[0;34m:\u001b[0m \u001b[0;34m\"panda\"\u001b[0m\u001b[0;34m,\u001b[0m \u001b[0;34m\"year\"\u001b[0m\u001b[0;34m:\u001b[0m\u001b[0;36m2020\u001b[0m\u001b[0;34m}\u001b[0m\u001b[0;34m\u001b[0m\u001b[0;34m\u001b[0m\u001b[0m\n\u001b[0;32m----> 3\u001b[0;31m \u001b[0mnewap\u001b[0m\u001b[0;34m.\u001b[0m\u001b[0mproduce\u001b[0m\u001b[0;34m(\u001b[0m\u001b[0mtopic\u001b[0m\u001b[0;34m=\u001b[0m\u001b[0mtopic\u001b[0m\u001b[0;34m,\u001b[0m \u001b[0mvalue\u001b[0m\u001b[0;34m=\u001b[0m\u001b[0mvalue\u001b[0m\u001b[0;34m,\u001b[0m \u001b[0mkey\u001b[0m\u001b[0;34m=\u001b[0m\u001b[0mkey\u001b[0m\u001b[0;34m,\u001b[0m \u001b[0mkey_schema\u001b[0m\u001b[0;34m=\u001b[0m\u001b[0mkey_schema\u001b[0m\u001b[0;34m,\u001b[0m \u001b[0mvalue_schema\u001b[0m\u001b[0;34m=\u001b[0m\u001b[0mvalue_schema\u001b[0m\u001b[0;34m)\u001b[0m\u001b[0;34m\u001b[0m\u001b[0;34m\u001b[0m\u001b[0m\n\u001b[0m\u001b[1;32m      4\u001b[0m \u001b[0mprint\u001b[0m\u001b[0;34m(\u001b[0m\u001b[0mvalue\u001b[0m\u001b[0;34m)\u001b[0m\u001b[0;34m\u001b[0m\u001b[0;34m\u001b[0m\u001b[0m\n",
      "\u001b[0;32m/opt/conda/lib/python3.8/site-packages/confluent_kafka/avro/__init__.py\u001b[0m in \u001b[0;36mproduce\u001b[0;34m(self, **kwargs)\u001b[0m\n\u001b[1;32m     97\u001b[0m         \u001b[0;32mif\u001b[0m \u001b[0mvalue\u001b[0m \u001b[0;32mis\u001b[0m \u001b[0;32mnot\u001b[0m \u001b[0;32mNone\u001b[0m\u001b[0;34m:\u001b[0m\u001b[0;34m\u001b[0m\u001b[0;34m\u001b[0m\u001b[0m\n\u001b[1;32m     98\u001b[0m             \u001b[0;32mif\u001b[0m \u001b[0mvalue_schema\u001b[0m\u001b[0;34m:\u001b[0m\u001b[0;34m\u001b[0m\u001b[0;34m\u001b[0m\u001b[0m\n\u001b[0;32m---> 99\u001b[0;31m                 \u001b[0mvalue\u001b[0m \u001b[0;34m=\u001b[0m \u001b[0mself\u001b[0m\u001b[0;34m.\u001b[0m\u001b[0m_serializer\u001b[0m\u001b[0;34m.\u001b[0m\u001b[0mencode_record_with_schema\u001b[0m\u001b[0;34m(\u001b[0m\u001b[0mtopic\u001b[0m\u001b[0;34m,\u001b[0m \u001b[0mvalue_schema\u001b[0m\u001b[0;34m,\u001b[0m \u001b[0mvalue\u001b[0m\u001b[0;34m)\u001b[0m\u001b[0;34m\u001b[0m\u001b[0;34m\u001b[0m\u001b[0m\n\u001b[0m\u001b[1;32m    100\u001b[0m             \u001b[0;32melse\u001b[0m\u001b[0;34m:\u001b[0m\u001b[0;34m\u001b[0m\u001b[0;34m\u001b[0m\u001b[0m\n\u001b[1;32m    101\u001b[0m                 \u001b[0;32mraise\u001b[0m \u001b[0mValueSerializerError\u001b[0m\u001b[0;34m(\u001b[0m\u001b[0;34m\"Avro schema required for values\"\u001b[0m\u001b[0;34m)\u001b[0m\u001b[0;34m\u001b[0m\u001b[0;34m\u001b[0m\u001b[0m\n",
      "\u001b[0;32m/opt/conda/lib/python3.8/site-packages/confluent_kafka/avro/serializer/message_serializer.py\u001b[0m in \u001b[0;36mencode_record_with_schema\u001b[0;34m(self, topic, schema, record, is_key)\u001b[0m\n\u001b[1;32m    117\u001b[0m             \u001b[0mself\u001b[0m\u001b[0;34m.\u001b[0m\u001b[0mid_to_writers\u001b[0m\u001b[0;34m[\u001b[0m\u001b[0mschema_id\u001b[0m\u001b[0;34m]\u001b[0m \u001b[0;34m=\u001b[0m \u001b[0mself\u001b[0m\u001b[0;34m.\u001b[0m\u001b[0m_get_encoder_func\u001b[0m\u001b[0;34m(\u001b[0m\u001b[0mschema\u001b[0m\u001b[0;34m)\u001b[0m\u001b[0;34m\u001b[0m\u001b[0;34m\u001b[0m\u001b[0m\n\u001b[1;32m    118\u001b[0m \u001b[0;34m\u001b[0m\u001b[0m\n\u001b[0;32m--> 119\u001b[0;31m         \u001b[0;32mreturn\u001b[0m \u001b[0mself\u001b[0m\u001b[0;34m.\u001b[0m\u001b[0mencode_record_with_schema_id\u001b[0m\u001b[0;34m(\u001b[0m\u001b[0mschema_id\u001b[0m\u001b[0;34m,\u001b[0m \u001b[0mrecord\u001b[0m\u001b[0;34m,\u001b[0m \u001b[0mis_key\u001b[0m\u001b[0;34m=\u001b[0m\u001b[0mis_key\u001b[0m\u001b[0;34m)\u001b[0m\u001b[0;34m\u001b[0m\u001b[0;34m\u001b[0m\u001b[0m\n\u001b[0m\u001b[1;32m    120\u001b[0m \u001b[0;34m\u001b[0m\u001b[0m\n\u001b[1;32m    121\u001b[0m     \u001b[0;32mdef\u001b[0m \u001b[0mencode_record_with_schema_id\u001b[0m\u001b[0;34m(\u001b[0m\u001b[0mself\u001b[0m\u001b[0;34m,\u001b[0m \u001b[0mschema_id\u001b[0m\u001b[0;34m,\u001b[0m \u001b[0mrecord\u001b[0m\u001b[0;34m,\u001b[0m \u001b[0mis_key\u001b[0m\u001b[0;34m=\u001b[0m\u001b[0;32mFalse\u001b[0m\u001b[0;34m)\u001b[0m\u001b[0;34m:\u001b[0m\u001b[0;34m\u001b[0m\u001b[0;34m\u001b[0m\u001b[0m\n",
      "\u001b[0;32m/opt/conda/lib/python3.8/site-packages/confluent_kafka/avro/serializer/message_serializer.py\u001b[0m in \u001b[0;36mencode_record_with_schema_id\u001b[0;34m(self, schema_id, record, is_key)\u001b[0m\n\u001b[1;32m    151\u001b[0m \u001b[0;34m\u001b[0m\u001b[0m\n\u001b[1;32m    152\u001b[0m             \u001b[0;31m# write the record to the rest of the buffer\u001b[0m\u001b[0;34m\u001b[0m\u001b[0;34m\u001b[0m\u001b[0;34m\u001b[0m\u001b[0m\n\u001b[0;32m--> 153\u001b[0;31m             \u001b[0mwriter\u001b[0m\u001b[0;34m(\u001b[0m\u001b[0mrecord\u001b[0m\u001b[0;34m,\u001b[0m \u001b[0moutf\u001b[0m\u001b[0;34m)\u001b[0m\u001b[0;34m\u001b[0m\u001b[0;34m\u001b[0m\u001b[0m\n\u001b[0m\u001b[1;32m    154\u001b[0m \u001b[0;34m\u001b[0m\u001b[0m\n\u001b[1;32m    155\u001b[0m             \u001b[0;32mreturn\u001b[0m \u001b[0moutf\u001b[0m\u001b[0;34m.\u001b[0m\u001b[0mgetvalue\u001b[0m\u001b[0;34m(\u001b[0m\u001b[0;34m)\u001b[0m\u001b[0;34m\u001b[0m\u001b[0;34m\u001b[0m\u001b[0m\n",
      "\u001b[0;32m/opt/conda/lib/python3.8/site-packages/confluent_kafka/avro/serializer/message_serializer.py\u001b[0m in \u001b[0;36m<lambda>\u001b[0;34m(record, fp)\u001b[0m\n\u001b[1;32m     84\u001b[0m             \u001b[0;32mreturn\u001b[0m \u001b[0;32mlambda\u001b[0m \u001b[0mrecord\u001b[0m\u001b[0;34m,\u001b[0m \u001b[0mfp\u001b[0m\u001b[0;34m:\u001b[0m \u001b[0mschemaless_writer\u001b[0m\u001b[0;34m(\u001b[0m\u001b[0mfp\u001b[0m\u001b[0;34m,\u001b[0m \u001b[0mparsed_schema\u001b[0m\u001b[0;34m,\u001b[0m \u001b[0mrecord\u001b[0m\u001b[0;34m)\u001b[0m\u001b[0;34m\u001b[0m\u001b[0;34m\u001b[0m\u001b[0m\n\u001b[1;32m     85\u001b[0m         \u001b[0mwriter\u001b[0m \u001b[0;34m=\u001b[0m \u001b[0mavro\u001b[0m\u001b[0;34m.\u001b[0m\u001b[0mio\u001b[0m\u001b[0;34m.\u001b[0m\u001b[0mDatumWriter\u001b[0m\u001b[0;34m(\u001b[0m\u001b[0mwriter_schema\u001b[0m\u001b[0;34m)\u001b[0m\u001b[0;34m\u001b[0m\u001b[0;34m\u001b[0m\u001b[0m\n\u001b[0;32m---> 86\u001b[0;31m         \u001b[0;32mreturn\u001b[0m \u001b[0;32mlambda\u001b[0m \u001b[0mrecord\u001b[0m\u001b[0;34m,\u001b[0m \u001b[0mfp\u001b[0m\u001b[0;34m:\u001b[0m \u001b[0mwriter\u001b[0m\u001b[0;34m.\u001b[0m\u001b[0mwrite\u001b[0m\u001b[0;34m(\u001b[0m\u001b[0mrecord\u001b[0m\u001b[0;34m,\u001b[0m \u001b[0mavro\u001b[0m\u001b[0;34m.\u001b[0m\u001b[0mio\u001b[0m\u001b[0;34m.\u001b[0m\u001b[0mBinaryEncoder\u001b[0m\u001b[0;34m(\u001b[0m\u001b[0mfp\u001b[0m\u001b[0;34m)\u001b[0m\u001b[0;34m)\u001b[0m\u001b[0;34m\u001b[0m\u001b[0;34m\u001b[0m\u001b[0m\n\u001b[0m\u001b[1;32m     87\u001b[0m \u001b[0;34m\u001b[0m\u001b[0m\n\u001b[1;32m     88\u001b[0m     \u001b[0;32mdef\u001b[0m \u001b[0mencode_record_with_schema\u001b[0m\u001b[0;34m(\u001b[0m\u001b[0mself\u001b[0m\u001b[0;34m,\u001b[0m \u001b[0mtopic\u001b[0m\u001b[0;34m,\u001b[0m \u001b[0mschema\u001b[0m\u001b[0;34m,\u001b[0m \u001b[0mrecord\u001b[0m\u001b[0;34m,\u001b[0m \u001b[0mis_key\u001b[0m\u001b[0;34m=\u001b[0m\u001b[0;32mFalse\u001b[0m\u001b[0;34m)\u001b[0m\u001b[0;34m:\u001b[0m\u001b[0;34m\u001b[0m\u001b[0;34m\u001b[0m\u001b[0m\n",
      "\u001b[0;32m/opt/conda/lib/python3.8/site-packages/avro/io.py\u001b[0m in \u001b[0;36mwrite\u001b[0;34m(self, datum, encoder)\u001b[0m\n\u001b[1;32m    977\u001b[0m     \u001b[0;32mdef\u001b[0m \u001b[0mwrite\u001b[0m\u001b[0;34m(\u001b[0m\u001b[0mself\u001b[0m\u001b[0;34m,\u001b[0m \u001b[0mdatum\u001b[0m\u001b[0;34m,\u001b[0m \u001b[0mencoder\u001b[0m\u001b[0;34m)\u001b[0m\u001b[0;34m:\u001b[0m\u001b[0;34m\u001b[0m\u001b[0;34m\u001b[0m\u001b[0m\n\u001b[1;32m    978\u001b[0m         \u001b[0;32mif\u001b[0m \u001b[0;32mnot\u001b[0m \u001b[0mvalidate\u001b[0m\u001b[0;34m(\u001b[0m\u001b[0mself\u001b[0m\u001b[0;34m.\u001b[0m\u001b[0mwriters_schema\u001b[0m\u001b[0;34m,\u001b[0m \u001b[0mdatum\u001b[0m\u001b[0;34m)\u001b[0m\u001b[0;34m:\u001b[0m\u001b[0;34m\u001b[0m\u001b[0;34m\u001b[0m\u001b[0m\n\u001b[0;32m--> 979\u001b[0;31m             \u001b[0;32mraise\u001b[0m \u001b[0mAvroTypeException\u001b[0m\u001b[0;34m(\u001b[0m\u001b[0mself\u001b[0m\u001b[0;34m.\u001b[0m\u001b[0mwriters_schema\u001b[0m\u001b[0;34m,\u001b[0m \u001b[0mdatum\u001b[0m\u001b[0;34m)\u001b[0m\u001b[0;34m\u001b[0m\u001b[0;34m\u001b[0m\u001b[0m\n\u001b[0m\u001b[1;32m    980\u001b[0m         \u001b[0mself\u001b[0m\u001b[0;34m.\u001b[0m\u001b[0mwrite_data\u001b[0m\u001b[0;34m(\u001b[0m\u001b[0mself\u001b[0m\u001b[0;34m.\u001b[0m\u001b[0mwriters_schema\u001b[0m\u001b[0;34m,\u001b[0m \u001b[0mdatum\u001b[0m\u001b[0;34m,\u001b[0m \u001b[0mencoder\u001b[0m\u001b[0;34m)\u001b[0m\u001b[0;34m\u001b[0m\u001b[0;34m\u001b[0m\u001b[0m\n\u001b[1;32m    981\u001b[0m \u001b[0;34m\u001b[0m\u001b[0m\n",
      "\u001b[0;31mAvroTypeException\u001b[0m: The datum {'manifacturer': 'fiat', 'model': 'panda', 'year': 2020} is not an example of the schema {\n  \"type\": \"record\",\n  \"name\": \"CarValue\",\n  \"namespace\": \"lab.avro\",\n  \"fields\": [\n    {\n      \"type\": \"string\",\n      \"name\": \"manifacturer\"\n    },\n    {\n      \"type\": \"string\",\n      \"name\": \"model\"\n    },\n    {\n      \"type\": \"int\",\n      \"name\": \"year\"\n    },\n    {\n      \"type\": {\n        \"type\": \"enum\",\n        \"name\": \"possibleColors\",\n        \"namespace\": \"lab.avro\",\n        \"symbols\": [\n          \"no_color\",\n          \"black\",\n          \"white\",\n          \"red\"\n        ]\n      },\n      \"name\": \"color\",\n      \"default\": \"no_color\",\n      \"doc\": \"The color of the car\"\n    }\n  ]\n}"
     ]
    }
   ],
   "source": [
    "key = {\"plate\": \"ab568cd\"}\n",
    "value = {\"manifacturer\": \"fiat\", \"model\": \"panda\", \"year\":2020}\n",
    "newap.produce(topic=topic, value=value, key=key, key_schema=key_schema, value_schema=value_schema)\n",
    "print(value)"
   ]
  },
  {
   "cell_type": "markdown",
   "metadata": {},
   "source": [
    "##### ![Quantia Tiny Logo](https://www.quantiaconsulting.com/logos/quantia_logo_tiny.png) 2020 Quantia Consulting, srl. All rights reserved."
   ]
  }
 ],
 "metadata": {
  "kernelspec": {
   "display_name": "Python 3",
   "language": "python",
   "name": "python3"
  },
  "language_info": {
   "codemirror_mode": {
    "name": "ipython",
    "version": 3
   },
   "file_extension": ".py",
   "mimetype": "text/x-python",
   "name": "python",
   "nbconvert_exporter": "python",
   "pygments_lexer": "ipython3",
   "version": "3.8.8"
  },
  "name": "Lab 3 - avro producer",
  "notebookId": 1507370365633688
 },
 "nbformat": 4,
 "nbformat_minor": 4
}
